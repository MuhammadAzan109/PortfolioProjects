{
 "cells": [
  {
   "cell_type": "markdown",
   "id": "0e86947a",
   "metadata": {},
   "source": [
    "## Importing libraries"
   ]
  },
  {
   "cell_type": "code",
   "execution_count": 1,
   "id": "b493b69d",
   "metadata": {},
   "outputs": [],
   "source": [
    "import pandas as pd\n",
    "import requests \n",
    "from bs4 import BeautifulSoup"
   ]
  },
  {
   "cell_type": "markdown",
   "id": "3120e18c",
   "metadata": {},
   "source": [
    "### Making requests and scraping products and prices"
   ]
  },
  {
   "cell_type": "code",
   "execution_count": 5,
   "id": "6406d47e",
   "metadata": {},
   "outputs": [
    {
     "name": "stdout",
     "output_type": "stream",
     "text": [
      "Total number of product names: 1274\n",
      "Total number of prices: 1274\n",
      "\n",
      "Sample product names and prices:\n",
      "Product: New ListingApple iPhone 13 - 128 GB - Pink (T-Mobile), Price: $280.00\n",
      "Product: Brand New Sealed Samsung Galaxy Note 20 Ultra 5G 256GB/128GB Factory Unlocked, Price: $322.96 to $370.46\n",
      "Product: Google Pixel 6 | 6a | 6 Pro - 128GB 256GB 512GB - Unlocked Verizon T-Mobile AT&T, Price: $139.95 to $214.95\n",
      "Product: New ListingSamsung Galaxy S21 Plus-128GB- Black -Unlocked Smartphone -Brand New Sealed, Price: $235.25\n",
      "Product: Samsung Galaxy A6 SM-A600 - 32GB - Black (Unlocked), Price: $43.37\n"
     ]
    }
   ],
   "source": [
    "\n",
    "product_name = []\n",
    "Prices = []\n",
    "\n",
    "# Base URL with placeholder for page number\n",
    "base_url = \"https://www.ebay.com/sch/i.html?_from=R40&_nkw=mobile+phones&_sacat=0&_ipg=240&_pgn=\"\n",
    "\n",
    "# Specify the number of pages you want to scrape\n",
    "num_pages = 5  # Change this to the desired number of pages\n",
    "\n",
    "# Loop through the specified number of pages\n",
    "for page in range(1, num_pages + 1):\n",
    "    # Build the URL for the current page\n",
    "    url = base_url + str(page)\n",
    "    r = requests.get(url)\n",
    "    \n",
    "    # Parse the response text with BeautifulSoup\n",
    "    soup = BeautifulSoup(r.text, \"lxml\")\n",
    "    \n",
    "    # Find the container holding the product listings\n",
    "    box = soup.find(\"ul\", class_='srp-results srp-list clearfix')\n",
    "    \n",
    "    # Find each product's container\n",
    "    items = box.find_all(\"li\", class_='s-item')\n",
    "    \n",
    "    # Scrape product names and prices simultaneously\n",
    "    for item in items:\n",
    "        # Scrape the product name\n",
    "        name = item.find(\"div\", class_='s-item__title')\n",
    "        if name:\n",
    "            product_name.append(name.text.strip())\n",
    "        \n",
    "        # Scrape the price associated with the product\n",
    "        price = item.find(\"span\", class_='s-item__price')\n",
    "        if price and 'DEFAULT' not in price.get('class', []):\n",
    "            Prices.append(price.text.strip())\n",
    "    \n",
    "    \n",
    "    time.sleep(2)  # Wait 2 seconds before the next request \n",
    "\n",
    "# Output the total number of products and prices scraped\n",
    "print(f\"Total number of product names: {len(product_name)}\")\n",
    "print(f\"Total number of prices: {len(Prices)}\")\n",
    "\n",
    "#print the first few scraped items to check correctness\n",
    "print(\"\\nSample product names and prices:\")\n",
    "for name, price in zip(product_name[:5], Prices[:5]):\n",
    "    print(f\"Product: {name}, Price: {price}\")\n"
   ]
  },
  {
   "cell_type": "code",
   "execution_count": 6,
   "id": "84102873",
   "metadata": {},
   "outputs": [
    {
     "name": "stdout",
     "output_type": "stream",
     "text": [
      "Data successfully saved to 'ebay_mobile_phones.csv'\n",
      "                                        Product Name               Price\n",
      "0  New ListingApple iPhone 13 - 128 GB - Pink (T-...             $280.00\n",
      "1  Brand New Sealed Samsung Galaxy Note 20 Ultra ...  $322.96 to $370.46\n",
      "2  Google Pixel 6 | 6a | 6 Pro - 128GB 256GB 512G...  $139.95 to $214.95\n",
      "3  New ListingSamsung Galaxy S21 Plus-128GB- Blac...             $235.25\n",
      "4  Samsung Galaxy A6 SM-A600 - 32GB - Black (Unlo...              $43.37\n"
     ]
    }
   ],
   "source": [
    "# Create a DataFrame from the scraped data\n",
    "df = pd.DataFrame({\n",
    "    \"Product Name\": product_name,\n",
    "    \"Price\": Prices\n",
    "})\n",
    "\n",
    "# Export the DataFrame to a CSV file\n",
    "df.to_csv(\"ebay_mobile_phones.csv\", index=False)\n",
    "\n",
    "print(\"Data successfully saved to 'ebay_mobile_phones.csv'\")\n",
    "\n",
    "print(df.head())"
   ]
  },
  {
   "cell_type": "markdown",
   "id": "250675b4",
   "metadata": {},
   "source": [
    "## Data Analysis"
   ]
  },
  {
   "cell_type": "code",
   "execution_count": 13,
   "id": "0789cc1f",
   "metadata": {},
   "outputs": [
    {
     "data": {
      "text/html": [
       "<div>\n",
       "<style scoped>\n",
       "    .dataframe tbody tr th:only-of-type {\n",
       "        vertical-align: middle;\n",
       "    }\n",
       "\n",
       "    .dataframe tbody tr th {\n",
       "        vertical-align: top;\n",
       "    }\n",
       "\n",
       "    .dataframe thead th {\n",
       "        text-align: right;\n",
       "    }\n",
       "</style>\n",
       "<table border=\"1\" class=\"dataframe\">\n",
       "  <thead>\n",
       "    <tr style=\"text-align: right;\">\n",
       "      <th></th>\n",
       "      <th>Product Name</th>\n",
       "      <th>Price</th>\n",
       "    </tr>\n",
       "  </thead>\n",
       "  <tbody>\n",
       "    <tr>\n",
       "      <th>0</th>\n",
       "      <td>New ListingApple iPhone 13 - 128 GB - Pink (T-...</td>\n",
       "      <td>$280.00</td>\n",
       "    </tr>\n",
       "    <tr>\n",
       "      <th>1</th>\n",
       "      <td>Brand New Sealed Samsung Galaxy Note 20 Ultra ...</td>\n",
       "      <td>$322.96 to $370.46</td>\n",
       "    </tr>\n",
       "    <tr>\n",
       "      <th>2</th>\n",
       "      <td>Google Pixel 6 | 6a | 6 Pro - 128GB 256GB 512G...</td>\n",
       "      <td>$139.95 to $214.95</td>\n",
       "    </tr>\n",
       "    <tr>\n",
       "      <th>3</th>\n",
       "      <td>New ListingSamsung Galaxy S21 Plus-128GB- Blac...</td>\n",
       "      <td>$235.25</td>\n",
       "    </tr>\n",
       "    <tr>\n",
       "      <th>4</th>\n",
       "      <td>Samsung Galaxy A6 SM-A600 - 32GB - Black (Unlo...</td>\n",
       "      <td>$43.37</td>\n",
       "    </tr>\n",
       "  </tbody>\n",
       "</table>\n",
       "</div>"
      ],
      "text/plain": [
       "                                        Product Name               Price\n",
       "0  New ListingApple iPhone 13 - 128 GB - Pink (T-...             $280.00\n",
       "1  Brand New Sealed Samsung Galaxy Note 20 Ultra ...  $322.96 to $370.46\n",
       "2  Google Pixel 6 | 6a | 6 Pro - 128GB 256GB 512G...  $139.95 to $214.95\n",
       "3  New ListingSamsung Galaxy S21 Plus-128GB- Blac...             $235.25\n",
       "4  Samsung Galaxy A6 SM-A600 - 32GB - Black (Unlo...              $43.37"
      ]
     },
     "execution_count": 13,
     "metadata": {},
     "output_type": "execute_result"
    }
   ],
   "source": [
    "df.head()"
   ]
  },
  {
   "cell_type": "code",
   "execution_count": 15,
   "id": "767041ca",
   "metadata": {},
   "outputs": [],
   "source": [
    "#  convert price ranges to average or handle single prices\n",
    "def clean_price(price):\n",
    "    if ' to ' in price:  # If the price is a range\n",
    "        low, high = price.split(' to ')\n",
    "        return (float(low) + float(high)) / 2  # Take the average of the range\n",
    "    else:\n",
    "        return float(price)  # Convert single price to float"
   ]
  },
  {
   "cell_type": "code",
   "execution_count": 16,
   "id": "2dad8f36",
   "metadata": {},
   "outputs": [],
   "source": [
    "# Remove currency symbols and commas\n",
    "df['Price'] = df['Price'].replace({'\\$': '', ',': ''}, regex=True)"
   ]
  },
  {
   "cell_type": "code",
   "execution_count": 17,
   "id": "7aeadf64",
   "metadata": {},
   "outputs": [],
   "source": [
    "# Apply the clean_price function to each price\n",
    "df['Price'] = df['Price'].apply(clean_price)"
   ]
  },
  {
   "cell_type": "code",
   "execution_count": 18,
   "id": "5d4f49ab",
   "metadata": {},
   "outputs": [
    {
     "name": "stdout",
     "output_type": "stream",
     "text": [
      "Price Statistics:\n",
      "count    1274.000000\n",
      "mean      261.220157\n",
      "std       203.171583\n",
      "min         0.990000\n",
      "25%       118.422500\n",
      "50%       209.960000\n",
      "75%       341.997500\n",
      "max      1248.520000\n",
      "Name: Price, dtype: float64\n"
     ]
    }
   ],
   "source": [
    "# Basic statistics\n",
    "print(\"Price Statistics:\")\n",
    "print(df['Price'].describe())"
   ]
  },
  {
   "cell_type": "code",
   "execution_count": 21,
   "id": "006359bf",
   "metadata": {},
   "outputs": [
    {
     "data": {
      "image/png": "[encoded data removed]",
      "text/plain": [
       "<Figure size 1000x600 with 1 Axes>"
      ]
     },
     "metadata": {},
     "output_type": "display_data"
    }
   ],
   "source": [
    "import matplotlib.pyplot as plt\n",
    "# Plotting a histogram of prices\n",
    "plt.figure(figsize=(10, 6))\n",
    "plt.hist(df['Price'], bins=20, edgecolor='black')\n",
    "plt.title(\"Price Distribution of Mobile Phones\")\n",
    "plt.xlabel(\"Price (in $)\")\n",
    "plt.ylabel(\"Frequency\")\n",
    "plt.show()"
   ]
  },
  {
   "cell_type": "markdown",
   "id": "df28ec19",
   "metadata": {},
   "source": [
    "## Most expensive and Cheapest price products"
   ]
  },
  {
   "cell_type": "code",
   "execution_count": 22,
   "id": "470d074b",
   "metadata": {},
   "outputs": [
    {
     "name": "stdout",
     "output_type": "stream",
     "text": [
      "Top 5 Most Expensive Products:\n",
      "                                           Product Name    Price\n",
      "876   Xiaomi 14 Ultra 5G 16GB+512GB - Dual SIM - Bla...  1248.52\n",
      "871   Sony Xperia 1 VI XQ-EC72 256/512GB 12GB RAM Un...  1189.99\n",
      "396   Samsung Galaxy S24 Ultra - 256GB - 512GB - 1TB...  1182.81\n",
      "1260  New ListingApple iPhone 15 Pro Max - 256 GB - ...  1150.00\n",
      "1083  SAMSUNG GALAXY S24 ULTRA 256GB 512GB 1TB SM-S9...  1048.95\n"
     ]
    }
   ],
   "source": [
    "# Top 5 most expensive products\n",
    "print(\"Top 5 Most Expensive Products:\")\n",
    "print(df.sort_values(by=\"Price\", ascending=False).head(5))"
   ]
  },
  {
   "cell_type": "code",
   "execution_count": 23,
   "id": "63d2e2b9",
   "metadata": {},
   "outputs": [
    {
     "name": "stdout",
     "output_type": "stream",
     "text": [
      "Top 5 Cheapest Products:\n",
      "                                           Product Name  Price\n",
      "928   New ListingApple iPhone 15 Pro Max - 256 GB - ...   0.99\n",
      "573   Faulty Xiaomi Redmi Note 11 2201117TY Mobile S...   1.30\n",
      "1237  Faulty Samsung Galaxy S9 SM-G960F Android Smar...   1.30\n",
      "903   Job Lot of Mobile Phones Untested - Apple iPho...   1.58\n",
      "1084  APPLE IPHONE XR - SPARES AND REPAIRS - SMASHED...   5.52\n"
     ]
    }
   ],
   "source": [
    "# Top 5 cheapest products\n",
    "print(\"Top 5 Cheapest Products:\")\n",
    "print(df.sort_values(by=\"Price\").head(5))"
   ]
  },
  {
   "cell_type": "markdown",
   "id": "88c3df97",
   "metadata": {},
   "source": [
    "### Average Price of samsung vs Iphone on Ebay"
   ]
  },
  {
   "cell_type": "code",
   "execution_count": 24,
   "id": "b4fc333c",
   "metadata": {},
   "outputs": [
    {
     "name": "stdout",
     "output_type": "stream",
     "text": [
      "The average price of an iPhone: $312.49\n",
      "The average price of a Samsung Galaxy: $271.44\n"
     ]
    }
   ],
   "source": [
    "# Filter rows containing \"iPhone\" in the product name\n",
    "iphone_df = df[df['Product Name'].str.contains(\"iPhone\", case=False, na=False)]\n",
    "\n",
    "# Filter rows containing \"Samsung Galaxy\" in the product name\n",
    "samsung_df = df[df['Product Name'].str.contains(\"Samsung Galaxy\", case=False, na=False)]\n",
    "\n",
    "# Calculate the average price for iPhones\n",
    "average_iphone_price = iphone_df['Price'].mean()\n",
    "\n",
    "# Calculate the average price for Samsung Galaxy phones\n",
    "average_samsung_price = samsung_df['Price'].mean()\n",
    "\n",
    "# Print the results\n",
    "print(f\"The average price of an iPhone: ${average_iphone_price:.2f}\")\n",
    "print(f\"The average price of a Samsung Galaxy: ${average_samsung_price:.2f}\")"
   ]
  },
  {
   "cell_type": "markdown",
   "id": "4f5579aa",
   "metadata": {},
   "source": [
    "## Most expensive iphone vs Samsung"
   ]
  },
  {
   "cell_type": "code",
   "execution_count": 25,
   "id": "e5bf6826",
   "metadata": {},
   "outputs": [
    {
     "name": "stdout",
     "output_type": "stream",
     "text": [
      "Most Expensive iPhone on eBay:\n",
      "                                           Product Name   Price\n",
      "1260  New ListingApple iPhone 15 Pro Max - 256 GB - ...  1150.0\n",
      "\n",
      "Most Expensive Samsung Galaxy on eBay:\n",
      "                                          Product Name    Price\n",
      "396  Samsung Galaxy S24 Ultra - 256GB - 512GB - 1TB...  1182.81\n"
     ]
    }
   ],
   "source": [
    "# Find the most expensive iPhone\n",
    "most_expensive_iphone = iphone_df.sort_values(by='Price', ascending=False).head(1)\n",
    "\n",
    "# Find the most expensive Samsung Galaxy\n",
    "most_expensive_samsung = samsung_df.sort_values(by='Price', ascending=False).head(1)\n",
    "\n",
    "# Display the results\n",
    "print(\"Most Expensive iPhone on eBay:\")\n",
    "print(most_expensive_iphone[['Product Name', 'Price']])\n",
    "\n",
    "print(\"\\nMost Expensive Samsung Galaxy on eBay:\")\n",
    "print(most_expensive_samsung[['Product Name', 'Price']])"
   ]
  },
  {
   "cell_type": "code",
   "execution_count": null,
   "id": "126c3335",
   "metadata": {},
   "outputs": [],
   "source": []
  }
 ],
 "metadata": {
  "kernelspec": {
   "display_name": "Python 3 (ipykernel)",
   "language": "python",
   "name": "python3"
  },
  "language_info": {
   "codemirror_mode": {
    "name": "ipython",
    "version": 3
   },
   "file_extension": ".py",
   "mimetype": "text/x-python",
   "name": "python",
   "nbconvert_exporter": "python",
   "pygments_lexer": "ipython3",
   "version": "3.10.9"
  }
 },
 "nbformat": 4,
 "nbformat_minor": 5
}
